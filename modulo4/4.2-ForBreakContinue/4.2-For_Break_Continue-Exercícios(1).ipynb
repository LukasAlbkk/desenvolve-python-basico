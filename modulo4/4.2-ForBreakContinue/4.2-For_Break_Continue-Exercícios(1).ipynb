{
 "cells": [
  {
   "cell_type": "markdown",
   "id": "29e89030",
   "metadata": {},
   "source": [
    "# Módulo 4 - Repetições\n",
    "\n",
    "## Aulas 4.2 - Comando ```for``` e 4.3 Break e Continue"
   ]
  },
  {
   "cell_type": "markdown",
   "id": "a45b42df",
   "metadata": {},
   "source": [
    "### Q1.\n",
    "\n",
    "Crie um programa em Python que utilize o comando for para imprimir os números de 10 a 1, em ordem decrescente."
   ]
  },
  {
   "cell_type": "code",
   "execution_count": 5,
   "id": "55a75b3d",
   "metadata": {},
   "outputs": [
    {
     "name": "stdout",
     "output_type": "stream",
     "text": [
      "10\n",
      "9\n",
      "8\n",
      "7\n",
      "6\n",
      "5\n",
      "4\n",
      "3\n",
      "2\n",
      "1\n"
     ]
    }
   ],
   "source": [
    "## Escreva e execute seu código aqui\n",
    "n = 10\n",
    "for n in range(10,0,-1):\n",
    "    print(n)"
   ]
  },
  {
   "cell_type": "markdown",
   "id": "94b47c36",
   "metadata": {},
   "source": [
    "### Q2.\n",
    "\n",
    "Dado um número inteiro positivo informado pelo usuário, crie um programa em Python que utilize o comando for para calcular e exibir a soma dos números de 1 até o número informado. Ou seja, $1 + 2 + 3 + ... + n$\n",
    "\n",
    "Exemplo de interação:\n",
    "```\n",
    "Digite um número: 5\n",
    "A soma dos números de 1 a 5 é 15\n",
    "```\n"
   ]
  },
  {
   "cell_type": "code",
   "execution_count": 12,
   "id": "45b71596",
   "metadata": {},
   "outputs": [
    {
     "name": "stdout",
     "output_type": "stream",
     "text": [
      "Digite um número: 7\n",
      "28\n"
     ]
    }
   ],
   "source": [
    "## Escreva e execute seu código aqui\n",
    "n = int(input(\"Digite um número: \"))\n",
    "sum = 0\n",
    "for n in range(n,0,-1):\n",
    "    sum += n \n",
    "print(sum)"
   ]
  },
  {
   "cell_type": "markdown",
   "id": "0411d170",
   "metadata": {},
   "source": [
    "### Q3.\n",
    "\n",
    "Escreva um programa que lê 10 valores inteiros positivos do usuário e ao final imprime a média dos valores digitados com duas casas decimais.\n",
    "\n",
    "```\n",
    "Digite 10 números positivos:\n",
    "3\n",
    "2\n",
    "12\n",
    "14\n",
    "20\n",
    "42\n",
    "19\n",
    "0\n",
    "8\n",
    "1\n",
    "A média dos valores digitados é 12.10\n",
    "```"
   ]
  },
  {
   "cell_type": "code",
   "execution_count": null,
   "id": "3f72f358",
   "metadata": {},
   "outputs": [],
   "source": [
    "## Escreva e execute seu código aqui\n",
    "n = 1\n",
    "sum = 0\n",
    "for n in range(0,10):\n",
    "    sum += int(input(\"Digite os valores: \"))\n",
    "media = sum / (n+1)\n",
    "print(f\"{media:.2f}\")"
   ]
  },
  {
   "cell_type": "markdown",
   "id": "d62e27ff",
   "metadata": {},
   "source": [
    "### Q4.\n",
    "\n",
    "Você vai criar um sistema que registra os resultados dos jogos do Atlético MG ao longo de um campeonato. Seu sistema vai receber os resultados de todos os jogos do Galo, e deve calcular a pontuação do time sabendo que vitórias valem 3 pontos, empates 1 ponto e derrotas 0 pontos.\n",
    "\n",
    "Entrada: <br>\n",
    "A primeira linha de entrada é um inteiro N com a quantidade jogos do galo. Para cada jogo você deve ler 2 inteiros, o primeiro com a quantidade de gols do galo e o segundo com a quantidade de gols do time oponente. \n",
    "\n",
    "Saída: <br>\n",
    "Apresente a soma de vitórias, empates e derrotas do galo, junto com o cálculo da pontuação total.\n",
    "\n",
    "Ex:\n",
    "```\n",
    "Entrada:\n",
    "4\n",
    "2\n",
    "0\n",
    "1\n",
    "1\n",
    "0\n",
    "3\n",
    "1\n",
    "0\n",
    "\n",
    "Saída:\n",
    "Vitórias: 2\n",
    "Empates: 1\n",
    "Derrotas: 1\n",
    "Pontuação: 7\n",
    "\n",
    "```\n",
    "\n",
    "\n"
   ]
  },
  {
   "cell_type": "code",
   "execution_count": null,
   "id": "d3fdfc2a",
   "metadata": {},
   "outputs": [],
   "source": [
    "## Escreva e execute seu código aqui\n",
    "jogos = int(input(\"Números de jogos: \"))\n",
    "sum_vit = 0\n",
    "sum_derrotas = 0\n",
    "sum_empates = 0\n",
    "pontos = 0\n",
    "\n",
    "for jogos in range(jogos,0,-1):\n",
    "    gols_feitos = int(input(\"gols marcados: \"))\n",
    "    gols_sofridos = int(input(\"gols sofridos: \"))\n",
    "    if gols_feitos > gols_sofridos:\n",
    "        sum_vit += 1\n",
    "        pontos += 3\n",
    "    elif gols_feitos == gols_sofridos:\n",
    "        sum_empates += 1\n",
    "        pontos += 1\n",
    "    else:\n",
    "        sum_derrotas += 1\n",
    "print(f\"Vitórias: {sum_vit}\")\n",
    "print(f\"Empates: {sum_empates}\")\n",
    "print(f\"Derrotas: {sum_derrotas}\")\n",
    "print(f\"Pontuação: {pontos}\")\n",
    "## Cruzeirooooo kkk :D"
   ]
  },
  {
   "cell_type": "markdown",
   "id": "fc98604d",
   "metadata": {},
   "source": [
    "### Q5.\n",
    "\n",
    "Faça um programa que lê dois inteiros N e M, e imprime na tela um campo de batalha naval. O tabuleiro deve possuir N linhas e M colunas. A primeira linha é composta por um espaço em branco e o cabeçalho das colunas, ou seja, valores de 1 a M. As N linhas seguintes iniciam com o cabeçalho da linha, ou seja, seu número, seguido de M caracteres \"/\" (barra) indicando uma possível posição jogável. \n",
    "\n",
    "```\n",
    "Entrada:\n",
    "5\n",
    "4\n",
    "\n",
    "Saída:\n",
    "  1 2 3 4 \n",
    "1 / / / / \n",
    "2 / / / / \n",
    "3 / / / / \n",
    "4 / / / / \n",
    "5 / / / / \n",
    "```\n",
    "\n",
    "Para esse exercício, precisamos lembrar que o comando print implicitamente adiciona uma quebra de linha ao final da impressão. Podemos interferir no final da impressão adicionando mais uma entrada ao print. No exemplo, finalizamos cada linha com um espaço em branco:\n",
    "```python\n",
    "print(\"Texto qualquer\", end = \" \")\n",
    "```"
   ]
  },
  {
   "cell_type": "code",
   "execution_count": 3,
   "id": "a60ef197",
   "metadata": {},
   "outputs": [
    {
     "name": "stdout",
     "output_type": "stream",
     "text": [
      "Digite o número de linhas: 10\n",
      "Digite o número de colunas: 7\n",
      "  1 2 3 4 5 6 7 \n",
      "1 / / / / / / / \n",
      "2 / / / / / / / \n",
      "3 / / / / / / / \n",
      "4 / / / / / / / \n",
      "5 / / / / / / / \n",
      "6 / / / / / / / \n",
      "7 / / / / / / / \n",
      "8 / / / / / / / \n",
      "9 / / / / / / / \n",
      "10 / / / / / / / \n"
     ]
    }
   ],
   "source": [
    "## Escreva e execute seu código aqui\n",
    "N = int(input(\"Digite o número de linhas: \"))\n",
    "M = int(input(\"Digite o número de colunas: \"))\n",
    "print(\" \", end=\" \")\n",
    "for j in range(1, M + 1):\n",
    "    print(j, end=\" \")\n",
    "print() \n",
    "for j in range(1,N + 1):\n",
    "    print(j,end=\" \")\n",
    "    for i in range(M):\n",
    "        print(\"/\",end=\" \")\n",
    "    print()"
   ]
  },
  {
   "cell_type": "markdown",
   "id": "4654dc0b",
   "metadata": {},
   "source": [
    "---\n",
    "## Break e Continue"
   ]
  },
  {
   "cell_type": "markdown",
   "id": "24fe9d85",
   "metadata": {},
   "source": [
    "### Q6.\n",
    "\n",
    "Escreva um programa que lê uma quantidade indefinida de valores e informa o maior e o menor valor digitados. A leitura é encerrada quando o usuário digitar o valor 0 (zero).\n",
    "\n",
    "```\n",
    "Entrada:\n",
    "12\n",
    "-1\n",
    "29\n",
    "11\n",
    "-5\n",
    "0\n",
    "\n",
    "Saída:\n",
    "Maior: 29\n",
    "Menor: -5\n",
    "```"
   ]
  },
  {
   "cell_type": "code",
   "execution_count": 4,
   "id": "ee1c466a",
   "metadata": {},
   "outputs": [
    {
     "name": "stdout",
     "output_type": "stream",
     "text": [
      "Digite um número: 3\n",
      "Digite um número: 4\n",
      "Digite um número: -10\n",
      "Digite um número: -9\n",
      "Digite um número: 13\n",
      "Digite um número: 0\n",
      "Maior: 13\n",
      "Menor: -10\n"
     ]
    }
   ],
   "source": [
    "## Escreva e execute seu código aqui\n",
    "i = 1\n",
    "maior = 0 \n",
    "menor = 0\n",
    "while i == 1:\n",
    "    num = int(input(\"Digite um número: \"))\n",
    "    if num == 0:\n",
    "        i = 0\n",
    "        break\n",
    "    else:\n",
    "        if num > maior:\n",
    "            maior = num\n",
    "        if menor == 0 or num < menor: \n",
    "            menor = num \n",
    "         \n",
    "print(f\"Maior: {maior}\")\n",
    "print(f\"Menor: {menor}\")"
   ]
  },
  {
   "cell_type": "markdown",
   "id": "30d486f7",
   "metadata": {},
   "source": [
    "### Q7.\n",
    "\n",
    "Escreva um programa que lê uma quantidade indefinida de valores e informa o **produto** dos valores positivos digitados. A leitura é encerrada quando o usuário digitar o valor 0 (zero).\n",
    "\n",
    "```\n",
    "Entrada:\n",
    "2\n",
    "-1\n",
    "1\n",
    "3\n",
    "-5\n",
    "0\n",
    "\n",
    "Saída:\n",
    "Produto: 6\n",
    "```"
   ]
  },
  {
   "cell_type": "code",
   "execution_count": 5,
   "id": "2f1ac324",
   "metadata": {},
   "outputs": [
    {
     "name": "stdout",
     "output_type": "stream",
     "text": [
      "Digite um número: 10\n",
      "Digite um número: 9\n",
      "Digite um número: -5\n",
      "Digite um número: 0\n",
      "Produto dos positivos: 90\n"
     ]
    }
   ],
   "source": [
    "## Escreva e execute seu código aqui\n",
    "i = 1\n",
    "prod = 1\n",
    "while i == 1:\n",
    "    num = int(input(\"Digite um número: \"))\n",
    "    if num == 0:\n",
    "        i = 0\n",
    "        break\n",
    "    else:\n",
    "        if num > 0:\n",
    "            prod *= num\n",
    "         \n",
    "print(f\"Produto dos positivos: {prod}\")"
   ]
  },
  {
   "cell_type": "markdown",
   "id": "e932f3cf",
   "metadata": {},
   "source": [
    "### Q8.\n",
    "\n",
    "Vamos fazer uma calculadora que aceita expressões aritméticas de qualquer tamanho até que o usuário digite a palavra \"Fim\". Sua calculadora executa apenas as operações \"+\", \"-\".\n",
    "\n",
    "```\n",
    "Entrada:\n",
    "5\n",
    "+\n",
    "8\n",
    "-\n",
    "3\n",
    "+\n",
    "2\n",
    "Fim\n",
    "\n",
    "Saída:\n",
    "12\n",
    "```"
   ]
  },
  {
   "cell_type": "code",
   "execution_count": 8,
   "id": "e835d870",
   "metadata": {},
   "outputs": [
    {
     "name": "stdout",
     "output_type": "stream",
     "text": [
      "3\n",
      "+\n",
      "5\n",
      "+\n",
      "8\n",
      "-\n",
      "4\n",
      "+\n",
      "1\n",
      "Fim\n",
      "Resultado: 13\n"
     ]
    }
   ],
   "source": [
    "## Escreva e execute seu código aqui\n",
    "i = 1\n",
    "sum = 0\n",
    "primeiro_numero = True\n",
    "while i == 1:\n",
    "    num = input()\n",
    "    if num == \"Fim\":\n",
    "        i = 0\n",
    "        break\n",
    "    else:\n",
    "        if primeiro_numero:\n",
    "            sum = int(num)\n",
    "            primeiro_numero = False\n",
    "        else:\n",
    "            operacao = num \n",
    "            numero = int(input())\n",
    "            if operacao == \"+\":\n",
    "                sum += numero\n",
    "            elif operacao == \"-\":\n",
    "                sum -= numero\n",
    "         \n",
    "print(f\"Resultado: {sum}\")\n"
   ]
  },
  {
   "cell_type": "code",
   "execution_count": null,
   "id": "0d0e150f",
   "metadata": {},
   "outputs": [],
   "source": []
  },
  {
   "cell_type": "code",
   "execution_count": null,
   "id": "e65f6c8f",
   "metadata": {},
   "outputs": [],
   "source": []
  }
 ],
 "metadata": {
  "kernelspec": {
   "display_name": "Python 3 (ipykernel)",
   "language": "python",
   "name": "python3"
  },
  "language_info": {
   "codemirror_mode": {
    "name": "ipython",
    "version": 3
   },
   "file_extension": ".py",
   "mimetype": "text/x-python",
   "name": "python",
   "nbconvert_exporter": "python",
   "pygments_lexer": "ipython3",
   "version": "3.11.6"
  }
 },
 "nbformat": 4,
 "nbformat_minor": 5
}
